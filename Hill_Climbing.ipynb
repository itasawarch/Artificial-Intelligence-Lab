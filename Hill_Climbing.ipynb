{
  "nbformat": 4,
  "nbformat_minor": 0,
  "metadata": {
    "colab": {
      "provenance": []
    },
    "kernelspec": {
      "name": "python3",
      "display_name": "Python 3"
    },
    "language_info": {
      "name": "python"
    }
  },
  "cells": [
    {
      "cell_type": "code",
      "execution_count": 1,
      "metadata": {
        "colab": {
          "base_uri": "https://localhost:8080/"
        },
        "id": "segp8mYoj8cQ",
        "outputId": "74661b5c-26a9-4ff1-c804-62e1b6bd6c2e"
      },
      "outputs": [
        {
          "output_type": "stream",
          "name": "stdout",
          "text": [
            "['F', 'H', 'I', 'J']\n"
          ]
        }
      ],
      "source": [
        "import math\n",
        "class Node:\n",
        "    def __init__(self, state, parent, actions, totalCost, heuristic):\n",
        "        self.state = state\n",
        "        self.parent = parent\n",
        "        self.actions = actions\n",
        "        self. totalCost = totalCost\n",
        "        self.heuristic = heuristic\n",
        "\n",
        "def hillclimbing ():\n",
        "    graph = {\n",
        "         'A' : Node ('A', None, [('F',1)] , 0, (0,0)),\n",
        "         'B' : Node ('B', None, [('C',1) , ('G',1)], 0, (2,0)),\n",
        "         'C' : Node ('C', None, [('B',1) , ('D',1)], 0, (3,0)),\n",
        "         'D' : Node ('D', None, [('C',1) , ('E',1)], 0, (4,0)),\n",
        "         'E' : Node ('E', None, [('D',1)] , 0, (5,0)),\n",
        "         'F' : Node ('F', None, [('A',1) , ('H',1)], 0,(0,1)),\n",
        "         'G' : Node ('G', None, [('B',1) , ('J',1)], 0,(2,1)),\n",
        "         'H' : Node ('H', None, [('F',1) , ('I',1), ('M',1)], 0,(0,2)),\n",
        "         'I' : Node ('I', None, [('H',1) , ('J',1), ('N',1)], 0,(1,2)),\n",
        "         'J' : Node ('J', None, [('G',1) , ('I',1)], 0,(2,2)),\n",
        "         'K' : Node ('K', None, [('L',1) , ('P',1)], 0,(4,2)),\n",
        "         'L' : Node ('L', None, [('K',1) , ('Q',1)], 0,(5,2)),\n",
        "         'M' : Node ('M', None, [('H',1) , ('N',1), ('R',1)], 0,(0,3)),\n",
        "         'N' : Node ('N', None, [('I',1) , ('M',1), ('S',1)] ,0,(1,3)),          \n",
        "         'O' : Node ('O', None, [('P',1) , ('U',1)], 0,(3,3)),                                                                       \n",
        "         'P' : Node ('P', None, [('K',1) , ('O',1), ('Q',1)], 0,(4,3)),\n",
        "         'Q' : Node ('Q', None, [('L',1) , ('P',1), ('V',1)], 0,(5,3)),\n",
        "         'R' : Node ('R', None, [('M',1) , ('S',1)], 0,(0,4)),\n",
        "         'S' : Node ('S', None, [('N',1) , ('R',1), ('T',1)], 0,(1,4)),\n",
        "         'T' : Node ('T', None, [('S',1) , ('W',1), ('U',1)], 0,(2,4)),\n",
        "         'U' : Node ('U', None, [('O',1) , ('T',1)], 0,(3,4)),\n",
        "         'V' : Node ('V', None, [('Q',1) , ('Y',1)], 0,(5,4)),\n",
        "         'W' : Node ('W', None, [('T',1)] , 0,(2,5)),\n",
        "         'X' : Node ('X', None, [('Y',1)] , 0,(4,5)),\n",
        "         'Y' : Node ('Y', None, [('X',1) , ('Y',1)], 0,(5,5))}\n",
        "\n",
        "    initialstate= 'A'\n",
        "    goalstate = 'Y'\n",
        "    parentNode = initialstate\n",
        "    parentCost = math.sqrt((graph[goalstate].heuristic[0] - \\\n",
        "                        graph [initialstate].heuristic[0])**2+\\\n",
        "                       (graph [goalstate] .heuristic [1] - \\\n",
        "                        graph [initialstate].heuristic [1]) **2)\n",
        "    explored= []\n",
        "    solution=[]\n",
        "    minChildCost = parentCost - 1\n",
        "    while parentNode != goalstate:\n",
        "         bestNode = parentNode\n",
        "         minChildCost = parentCost\n",
        "         explored.append(parentNode)\n",
        "         for child in graph [parentNode].actions:\n",
        "            if child [0] not in explored:\n",
        "               childCost = math.sqrt((graph[goalstate].heuristic [0]\\\n",
        "                                  - graph [child [0]].heuristic [0]) **2\\\n",
        "                  +(graph[goalstate].heuristic [1] \\\n",
        "                    - graph[child[0]].heuristic [1]) **2)\n",
        "               if childCost<minChildCost:\n",
        "                   bestNode=child[0]\n",
        "                   minChildCost=childCost\n",
        "         if bestNode==parentNode:\n",
        "             break\n",
        "         else:\n",
        "              parentNode=bestNode\n",
        "              parentCost=minChildCost\n",
        "              solution.append(parentNode)\n",
        "    return solution\n",
        "\n",
        "solution = hillclimbing()\n",
        "print(solution)\n"
      ]
    }
  ]
}
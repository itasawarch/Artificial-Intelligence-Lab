{
  "nbformat": 4,
  "nbformat_minor": 0,
  "metadata": {
    "colab": {
      "provenance": []
    },
    "kernelspec": {
      "name": "python3",
      "display_name": "Python 3"
    },
    "language_info": {
      "name": "python"
    }
  },
  "cells": [
    {
      "cell_type": "code",
      "execution_count": 1,
      "metadata": {
        "colab": {
          "base_uri": "https://localhost:8080/"
        },
        "id": "WOIxvyCESxR9",
        "outputId": "607dd1eb-175f-4912-b9bc-8dbc6cdb0b11"
      },
      "outputs": [
        {
          "output_type": "stream",
          "name": "stdout",
          "text": [
            "Enter number of elements for list1: 5\n",
            "Enter element 1: 5\n",
            "Enter element 2: 5\n",
            "Enter element 3: 5\n",
            "Enter element 4: 5\n",
            "Enter element 5: 5\n",
            "Enter number of elements for list2: 5\n",
            "Enter element 1: 3\n",
            "Enter element 2: 3\n",
            "Enter element 3: 3\n",
            "Enter element 4: 3\n",
            "Enter element 5: 3\n",
            "Merged and sorted list: [3, 3, 3, 3, 3, 5, 5, 5, 5, 5]\n"
          ]
        }
      ],
      "source": [
        "# create empty lists\n",
        "list1 = []\n",
        "list2 = []\n",
        "\n",
        "# get user input for list1\n",
        "n = int(input(\"Enter number of elements for list1: \"))\n",
        "for i in range(n):\n",
        "    elem = int(input(f\"Enter element {i+1}: \"))\n",
        "    list1.append(elem)\n",
        "\n",
        "# get user input for list2\n",
        "m = int(input(\"Enter number of elements for list2: \"))\n",
        "for j in range(m):\n",
        "    elem = int(input(f\"Enter element {j+1}: \"))\n",
        "    list2.append(elem)\n",
        "\n",
        "# merge the two lists and sort them\n",
        "merged_list = list1 + list2\n",
        "sorted_list = sorted(merged_list)\n",
        "\n",
        "# display the sorted list\n",
        "print(\"Merged and sorted list:\", sorted_list)\n"
      ]
    },
    {
      "cell_type": "code",
      "source": [
        "# create empty lists\n",
        "list1 = []\n",
        "list2 = []\n",
        "\n",
        "# get user input for list1\n",
        "n = int(input(\"Enter number of elements for list1: \"))\n",
        "for i in range(n):\n",
        "    elem = int(input(f\"Enter element {i+1}: \"))\n",
        "    list1.append(elem)\n",
        "\n",
        "# get user input for list2\n",
        "m = int(input(\"Enter number of elements for list2: \"))\n",
        "for j in range(m):\n",
        "    elem = int(input(f\"Enter element {j+1}: \"))\n",
        "    list2.append(elem)\n",
        "\n",
        "# merge the two lists and sort them\n",
        "merged_list = list1 + list2\n",
        "sorted_list = sorted(merged_list)\n",
        "\n",
        "# find the smallest and largest elements in the sorted list using min() and max()\n",
        "smallest = min(sorted_list)\n",
        "largest = max(sorted_list)\n",
        "\n",
        "# display the merged, sorted, smallest, and largest elements\n",
        "print(\"Merged and sorted list:\", sorted_list)\n",
        "print(\"Smallest element:\", smallest)\n",
        "print(\"Largest element:\", largest)\n"
      ],
      "metadata": {
        "colab": {
          "base_uri": "https://localhost:8080/"
        },
        "id": "b1ae9n34S0r8",
        "outputId": "75a347cb-47d9-418a-bb6f-53fa9bbf63f4"
      },
      "execution_count": 2,
      "outputs": [
        {
          "output_type": "stream",
          "name": "stdout",
          "text": [
            "Enter number of elements for list1: 4\n",
            "Enter element 1: 2\n",
            "Enter element 2: 3\n",
            "Enter element 3: 5\n",
            "Enter element 4: 6\n",
            "Enter number of elements for list2: 10\n",
            "Enter element 1: 11\n",
            "Enter element 2: 12\n",
            "Enter element 3: 13\n",
            "Enter element 4: 14\n",
            "Enter element 5: 15\n",
            "Enter element 6: 16\n",
            "Enter element 7: 64\n",
            "Enter element 8: 98\n",
            "Enter element 9: 90\n",
            "Enter element 10: 98\n",
            "Merged and sorted list: [2, 3, 5, 6, 11, 12, 13, 14, 15, 16, 64, 90, 98, 98]\n",
            "Smallest element: 2\n",
            "Largest element: 98\n"
          ]
        }
      ]
    },
    {
      "cell_type": "code",
      "source": [
        "# create empty lists\n",
        "list1 = []\n",
        "list2 = []\n",
        "\n",
        "# get user input for list1\n",
        "n = int(input(\"Enter number of elements for list1: \"))\n",
        "for i in range(n):\n",
        "    elem = int(input(\"Enter element\"))\n",
        "    list1.append(elem)\n",
        "\n",
        "# get user input for list2\n",
        "m = int(input(\"Enter number of elements for list2: \"))\n",
        "for j in range(m):\n",
        "    elem = int(input(\"Enter element\"))\n",
        "    list2.append(elem)\n",
        "\n",
        "# merge the two lists and sort them\n",
        "merged_list = list1 + list2\n",
        "sorted_list = sorted(merged_list)\n",
        "\n",
        "# find the smallest and largest elements in the sorted list using min() and max()\n",
        "smallest = min(sorted_list)\n",
        "largest = max(sorted_list)\n",
        "\n",
        "# display the merged, sorted, smallest, and largest elements\n",
        "print(\"Merged and sorted list:\", sorted_list)\n",
        "print(\"Smallest element:\", smallest)\n",
        "print(\"Largest element:\", largest)\n"
      ],
      "metadata": {
        "colab": {
          "base_uri": "https://localhost:8080/"
        },
        "id": "jB-2cVU9VSAq",
        "outputId": "414f8f68-a0d1-40d8-f38e-bfff0d7842aa"
      },
      "execution_count": 4,
      "outputs": [
        {
          "output_type": "stream",
          "name": "stdout",
          "text": [
            "Enter number of elements for list1: 3\n",
            "Enter element3\n",
            "Enter element4\n",
            "Enter element5\n",
            "Enter number of elements for list2: 3\n",
            "Enter element1\n",
            "Enter element3\n",
            "Enter element4\n",
            "Merged and sorted list: [1, 3, 3, 4, 4, 5]\n",
            "Smallest element: 1\n",
            "Largest element: 5\n"
          ]
        }
      ]
    },
    {
      "cell_type": "code",
      "source": [],
      "metadata": {
        "id": "0QyL9E9GWDG7"
      },
      "execution_count": null,
      "outputs": []
    }
  ]
}
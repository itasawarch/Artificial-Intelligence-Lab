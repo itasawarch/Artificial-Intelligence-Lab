{
  "nbformat": 4,
  "nbformat_minor": 0,
  "metadata": {
    "colab": {
      "provenance": []
    },
    "kernelspec": {
      "name": "python3",
      "display_name": "Python 3"
    },
    "language_info": {
      "name": "python"
    }
  },
  "cells": [
    {
      "cell_type": "code",
      "execution_count": 1,
      "metadata": {
        "colab": {
          "base_uri": "https://localhost:8080/"
        },
        "id": "N4YAOMZXdv8J",
        "outputId": "0923bcb0-b232-447c-9709-a28de5855c54"
      },
      "outputs": [
        {
          "output_type": "stream",
          "name": "stdout",
          "text": [
            "['A', 'B', 'C', 'D', 'F', 'Q', 'R', 'T', 'U', 'V', 'X', 'Y', 'Z', 'g']\n"
          ]
        }
      ],
      "source": [
        "class Node:\n",
        "    def __init__(self,state,parent,actions):\n",
        "        self.state = state\n",
        "        self.parent = parent\n",
        "        self.actions = actions\n",
        "\n",
        "graph = {\n",
        "        'A':Node('A',None,['B']),\n",
        "        'B':Node('B',None,['C']),\n",
        "        'C':Node('C',None,['D']),\n",
        "        'D':Node('D',None,['E','F']),\n",
        "        'E':Node('E',None,['G']),\n",
        "        'G':Node('G',None,['H']),\n",
        "        'H':Node('H',None,['I']),\n",
        "        'I':Node('I',None,['J']),\n",
        "        'J':Node('J',None,['K']),\n",
        "        'K':Node('K',None,['L']),\n",
        "        'L':Node('L',None,['M']),\n",
        "        'M':Node('M',None,['N']),\n",
        "        'N':Node('N',None,['O']),\n",
        "        'O':Node('O',None,['P']),\n",
        "        'P':Node('P',None,['Z']),\n",
        "        'Z':Node('Z',None,['g']),\n",
        "        'F':Node('F',None,['Q']),\n",
        "        'Q':Node('Q',None,['R','S']),\n",
        "        'R':Node('R',None,['T']),\n",
        "        'S':Node('S',None,['T']),\n",
        "        'T':Node('T',None,['U']),\n",
        "        'U':Node('U',None,['V']),\n",
        "        'V':Node('V',None,['W','X']),\n",
        "        'W':Node('W',None,[]),\n",
        "        'X':Node('X',None,['Y']),\n",
        "        'Y':Node('Y',None,['Z']),\n",
        "        'g':Node('g',None,[])\n",
        "    }\n",
        "\n",
        "def BFS():\n",
        "    initialState = 'A'\n",
        "    goalState = 'g'\n",
        "\n",
        "    frontier = [initialState]\n",
        "    explored = []\n",
        "    while len(frontier)!=0:\n",
        "        currentNode = frontier.pop(0)\n",
        "        explored.append(currentNode)\n",
        "        for child in graph[currentNode].actions:\n",
        "            if child not in frontier and child not in explored:\n",
        "                graph[child].parent = currentNode\n",
        "                if graph[child].state == goalState:\n",
        "                    return actionSequence(graph,initialState,goalState)\n",
        "                frontier.append(child)\n",
        "\n",
        "\n",
        "\n",
        "def actionSequence(graph,initialState, goalState):\n",
        "    solution = [goalState]\n",
        "    currentParent = graph[goalState].parent\n",
        "    while currentParent!=None:\n",
        "        solution.append(currentParent)\n",
        "        currentParent = graph[currentParent].parent\n",
        "    solution.reverse()\n",
        "    return solution\n",
        "\n",
        "\n",
        "solution = BFS()\n",
        "print(solution)"
      ]
    }
  ]
}
{
  "nbformat": 4,
  "nbformat_minor": 0,
  "metadata": {
    "colab": {
      "provenance": []
    },
    "kernelspec": {
      "name": "python3",
      "display_name": "Python 3"
    },
    "language_info": {
      "name": "python"
    }
  },
  "cells": [
    {
      "cell_type": "code",
      "execution_count": 10,
      "metadata": {
        "id": "zLfZHBNB_ui2",
        "colab": {
          "base_uri": "https://localhost:8080/"
        },
        "outputId": "118edd81-d86c-43de-c4cc-45f66ab1b61c"
      },
      "outputs": [
        {
          "output_type": "stream",
          "name": "stdout",
          "text": [
            "{0, 1, 2, 7, 8, 9}\n",
            "{0, 1, 2, 7, 8, 9}\n",
            "{0, 1, 2, 7, 8, 9}\n"
          ]
        }
      ],
      "source": [
        "def symmdiff (a,b):\n",
        "  e=set()\n",
        "  for i in a:\n",
        "    if i not in b:\n",
        "      e.add(i)\n",
        "  for i in b:\n",
        "        if i not in a:\n",
        "          e.add(i)\n",
        "  return e\n",
        "set1={0,1,2,4,5}\n",
        "set2={4,5,7,8,9}\n",
        "print(symmdiff(set1,set2)) \n",
        "print(set1^set2) \n",
        "print(set2^set1)        "
      ]
    },
    {
      "cell_type": "code",
      "source": [
        "Dictionary={(\"Tasawar\"):(\"FA20-BSE-054\",\"From Ludden\",\"0300\"),(\"Haris\"):(\"FA20-BSE-022\",\"From Gagoo\",\"0311\"),(\"Umar\"):(\"FA20-BSE-046\",\"From Tibba\",)}\n",
        "Name=input(\"Enter Name\")\n",
        "Data=(Name)\n",
        "if Data in Dictionary:\n",
        "  print(Dictionary[Data])\n",
        "else:\n",
        "  print(\"Name Not Found\")"
      ],
      "metadata": {
        "colab": {
          "base_uri": "https://localhost:8080/"
        },
        "id": "r1JZm3DHPqnm",
        "outputId": "07106777-932b-4216-e08c-8e4493785ae0"
      },
      "execution_count": 17,
      "outputs": [
        {
          "output_type": "stream",
          "name": "stdout",
          "text": [
            "Enter NameHaris\n",
            "('FA20-BSE-022', 'From Gagoo', '0311')\n"
          ]
        }
      ]
    }
  ]
}
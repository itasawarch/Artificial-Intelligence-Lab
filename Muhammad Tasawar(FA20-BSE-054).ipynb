{
  "nbformat": 4,
  "nbformat_minor": 0,
  "metadata": {
    "colab": {
      "provenance": []
    },
    "kernelspec": {
      "name": "python3",
      "display_name": "Python 3"
    },
    "language_info": {
      "name": "python"
    }
  },
  "cells": [
    {
      "cell_type": "code",
      "execution_count": 16,
      "metadata": {
        "colab": {
          "base_uri": "https://localhost:8080/"
        },
        "id": "6YZmEMbkX8Um",
        "outputId": "0f7c4a87-1d3a-40f9-ef49-ad26dc5d1139"
      },
      "outputs": [
        {
          "output_type": "stream",
          "name": "stdout",
          "text": [
            "True\n"
          ]
        }
      ],
      "source": [
        "def ispalindrome (word):\n",
        "  temp=word[::-1]\n",
        "  if temp.capitalize()==word.capitalize():\n",
        "    return True\n",
        "  else:\n",
        "    return False\n",
        "print(ispalindrome(\"Dad\"))"
      ]
    },
    {
      "cell_type": "code",
      "source": [
        "def ispalindrome (word):\n",
        "  temp=word[::-1]\n",
        "  if temp.capitalize()==word.capitalize():\n",
        "    return True\n",
        "  else:\n",
        "    return False\n",
        "print(ispalindrome(\"Bulub\"))"
      ],
      "metadata": {
        "colab": {
          "base_uri": "https://localhost:8080/"
        },
        "id": "m9ivxiWZcPcK",
        "outputId": "96355a12-1ea8-4861-914f-90f9a9386091"
      },
      "execution_count": 25,
      "outputs": [
        {
          "output_type": "stream",
          "name": "stdout",
          "text": [
            "True\n"
          ]
        }
      ]
    },
    {
      "cell_type": "code",
      "source": [
        "def ispalindrome (word):\n",
        "  temp=word[::-1]\n",
        "  if temp.capitalize()==word.capitalize():\n",
        "    return True\n",
        "  else:\n",
        "    return False\n",
        "print(ispalindrome(\"Deed\"))"
      ],
      "metadata": {
        "colab": {
          "base_uri": "https://localhost:8080/"
        },
        "id": "ED9KivhgdVof",
        "outputId": "88c18842-7411-482f-cd22-3a004941788f"
      },
      "execution_count": 26,
      "outputs": [
        {
          "output_type": "stream",
          "name": "stdout",
          "text": [
            "True\n"
          ]
        }
      ]
    },
    {
      "cell_type": "code",
      "source": [
        "print('Enter your name:')\n",
        "def ispalindrome (T):\n",
        " name=T[::-1]\n",
        " if name.capitalize()==T.capitalize():\n",
        "  return True\n",
        " else:\n",
        "  return False\n",
        "T = input()\n",
        "print(ispalindrome(T))"
      ],
      "metadata": {
        "colab": {
          "base_uri": "https://localhost:8080/"
        },
        "id": "-OF9NSaxdayv",
        "outputId": "749d767f-30c3-4b35-902e-4400b4eca89a"
      },
      "execution_count": 34,
      "outputs": [
        {
          "output_type": "stream",
          "name": "stdout",
          "text": [
            "Enter your name:\n",
            "tasat\n",
            "True\n"
          ]
        }
      ]
    },
    {
      "cell_type": "code",
      "source": [
        "print('Enter your name:')\n",
        "def ispalindrome (T):\n",
        " name=T[::-1]\n",
        " print(name)\n",
        "T = input()\n",
        "print(ispalindrome(T))"
      ],
      "metadata": {
        "colab": {
          "base_uri": "https://localhost:8080/"
        },
        "id": "V3nI5hCzh8RJ",
        "outputId": "6bb0ee5b-dc29-4cd8-9a7e-8c0066ad897e"
      },
      "execution_count": 38,
      "outputs": [
        {
          "output_type": "stream",
          "name": "stdout",
          "text": [
            "Enter your name:\n",
            "tasawar\n",
            "rawasat\n",
            "None\n"
          ]
        }
      ]
    },
    {
      "cell_type": "code",
      "source": [
        "a=[\n",
        "    [1,0,0],\n",
        "   [0,1,0],\n",
        "   [0,0,1]\n",
        "]\n",
        "print(a[-2])"
      ],
      "metadata": {
        "colab": {
          "base_uri": "https://localhost:8080/"
        },
        "id": "Z4d6kQgUjb6K",
        "outputId": "961ffe2c-6ced-4622-f8a2-275b0b3868b9"
      },
      "execution_count": 42,
      "outputs": [
        {
          "output_type": "stream",
          "name": "stdout",
          "text": [
            "[0, 1, 0]\n"
          ]
        }
      ]
    },
    {
      "cell_type": "code",
      "source": [
        "a=[\n",
        "    [1,0,0],\n",
        "   [0,1,0],\n",
        "   [0,0,1]\n",
        "]\n",
        "print(a[2][2])"
      ],
      "metadata": {
        "colab": {
          "base_uri": "https://localhost:8080/"
        },
        "id": "fSUwBmdzkSr3",
        "outputId": "bc048da6-aee1-48a2-bd0b-d0dc07b73dc1"
      },
      "execution_count": 43,
      "outputs": [
        {
          "output_type": "stream",
          "name": "stdout",
          "text": [
            "1\n"
          ]
        }
      ]
    },
    {
      "cell_type": "code",
      "source": [
        "a=[\n",
        "    [1,0,0],\n",
        "   [0,1,0],\n",
        "   [0,0,1]\n",
        "]\n",
        "print(a[-1][-1])"
      ],
      "metadata": {
        "colab": {
          "base_uri": "https://localhost:8080/"
        },
        "id": "wdlg6ZAOkn9F",
        "outputId": "eaea5897-8ae8-4818-c044-95b954ecb6c0"
      },
      "execution_count": 44,
      "outputs": [
        {
          "output_type": "stream",
          "name": "stdout",
          "text": [
            "1\n"
          ]
        }
      ]
    },
    {
      "cell_type": "code",
      "source": [
        "a=[[\n",
        "    [1,0,0],\n",
        "   [0,1,0],\n",
        "   [0,0,1]\n",
        "]]\n",
        "print(a[-1][-1][-1])"
      ],
      "metadata": {
        "colab": {
          "base_uri": "https://localhost:8080/"
        },
        "id": "CmWM8Ognltc4",
        "outputId": "a1373f8d-a870-44b6-e916-59a6af16f713"
      },
      "execution_count": 45,
      "outputs": [
        {
          "output_type": "stream",
          "name": "stdout",
          "text": [
            "1\n"
          ]
        }
      ]
    },
    {
      "cell_type": "code",
      "source": [
        "a=[[\n",
        "    [1,0,0],\n",
        "   [0,1,0],\n",
        "   [0,0,1]\n",
        "]]\n",
        "print(a[0][2][2])"
      ],
      "metadata": {
        "colab": {
          "base_uri": "https://localhost:8080/"
        },
        "id": "DBDj-8Q7l1C9",
        "outputId": "8ca89d9f-afcf-4afa-f78f-adec2f78d883"
      },
      "execution_count": 47,
      "outputs": [
        {
          "output_type": "stream",
          "name": "stdout",
          "text": [
            "1\n"
          ]
        }
      ]
    },
    {
      "cell_type": "code",
      "source": [],
      "metadata": {
        "id": "0YYN87OEnCHf"
      },
      "execution_count": null,
      "outputs": []
    }
  ]
}
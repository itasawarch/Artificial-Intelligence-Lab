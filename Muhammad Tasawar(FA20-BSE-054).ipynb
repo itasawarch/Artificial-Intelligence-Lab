{
  "nbformat": 4,
  "nbformat_minor": 0,
  "metadata": {
    "colab": {
      "provenance": []
    },
    "kernelspec": {
      "name": "python3",
      "display_name": "Python 3"
    },
    "language_info": {
      "name": "python"
    }
  },
  "cells": [
    {
      "cell_type": "code",
      "execution_count": 14,
      "metadata": {
        "id": "jiJfX3MtEqQO"
      },
      "outputs": [],
      "source": [
        "class node:\n",
        "  def __init__(self, state, parent, actions, totalcost):\n",
        "    self.state=state\n",
        "    self.parent=parent\n",
        "    self.actions=actions\n",
        "    self.totalcost=totalcost\n",
        "Graph={\n",
        "        'A':node('A', None, ['B', 'C', 'E'],None),\n",
        "        'B':node('B', None, ['A', 'D', 'E'],None),\n",
        "        'C':node('C', None, ['A', 'F', 'G'],None),\n",
        "        'D':node('D', None, ['B', 'E'],None),\n",
        "        'E':node('E', None, ['A', 'B', 'D'],None),\n",
        "        'F':node('F', None, ['C'],None),\n",
        "        'G':node('G', None, ['C'],None)\n",
        "        }"
      ]
    },
    {
      "cell_type": "code",
      "source": [
        "def actionsequence (Graph,initialstate,goalstate):\n",
        "  solution=[goalstate]\n",
        "  currentparent=Graph[goalstate].parent\n",
        "  while currentparent!=None:\n",
        "    solution.append(currentparent)\n",
        "    currentparent=Graph[currentparent].parent\n",
        "  solution.reverse()\n",
        "  return solution          \n",
        "def BFS():\n",
        "  initialstate='D'\n",
        "  goalstate='F'\n",
        "  Graph={\n",
        "        'A':node('A', None, ['B', 'C', 'E'],None),\n",
        "        'B':node('B', None, ['A', 'D', 'E'],None),\n",
        "        'C':node('C', None, ['A', 'F', 'G'],None),\n",
        "        'D':node('D', None, ['B', 'E'],None),\n",
        "        'E':node('E', None, ['A', 'B', 'D'],None),\n",
        "        'F':node('F', None, ['C'],None),\n",
        "        'G':node('G', None, ['C'],None)}\n",
        "  frontier=[initialstate]\n",
        "  explored=[]\n",
        "  while len(frontier)!=0:\n",
        "    currentnode=frontier.pop(0)\n",
        "    explored.append(currentnode)\n",
        "    for child in Graph[currentnode].actions:\n",
        "      if child not in frontier and child not in explored:\n",
        "        Graph[child].parent=currentnode\n",
        "        if Graph[child].state==goalstate:\n",
        "          return actionsequence (Graph,initialstate,goalstate)\n",
        "        frontier.append(child)\n",
        "solution=BFS()\n",
        "print(solution)"
      ],
      "metadata": {
        "colab": {
          "base_uri": "https://localhost:8080/"
        },
        "id": "blBZWDlUSnDM",
        "outputId": "d0339c40-141f-4363-ccc6-f82c4c2cd3d0"
      },
      "execution_count": 13,
      "outputs": [
        {
          "output_type": "stream",
          "name": "stdout",
          "text": [
            "['D', 'B', 'A', 'C', 'F']\n"
          ]
        }
      ]
    },
    {
      "cell_type": "code",
      "source": [
        "class node:\n",
        "  def __init__(self, state, parent, actions, totalcost):\n",
        "    self.state=state\n",
        "    self.parent=parent\n",
        "    self.actions=actions\n",
        "    self.totalcost=totalcost\n",
        "Graph={\n",
        "        'A':node('A', None, ['B', 'C', 'E'],None),\n",
        "        'B':node('B', None, ['A', 'D', 'E'],None),\n",
        "        'C':node('C', None, ['A', 'F', 'G'],None),\n",
        "        'D':node('D', None, ['B', 'E'],None),\n",
        "        'E':node('E', None, ['A', 'B', 'D'],None),\n",
        "        'F':node('F', None, ['C'],None),\n",
        "        'G':node('G', None, ['C'],None)\n",
        "        }\n",
        "def actionsequence (Graph,initialstate,goalstate):\n",
        "  solution=[goalstate]\n",
        "  currentparent=Graph[goalstate].parent\n",
        "  while currentparent!=None:\n",
        "    solution.append(currentparent)\n",
        "    currentparent=Graph[currentparent].parent\n",
        "  solution.reverse()\n",
        "  return solution          \n",
        "def BFS():\n",
        "  initialstate='A'\n",
        "  goalstate='F'\n",
        "  Graph={\n",
        "        'A':node('A', None, ['B', 'C', 'E'],None),\n",
        "        'B':node('B', None, ['A', 'D', 'E'],None),\n",
        "        'C':node('C', None, ['A', 'F', 'G'],None),\n",
        "        'D':node('D', None, ['B', 'E'],None),\n",
        "        'E':node('E', None, ['A', 'B', 'D'],None),\n",
        "        'F':node('F', None, ['C'],None),\n",
        "        'G':node('G', None, ['C'],None)}\n",
        "  frontier=[initialstate]\n",
        "  explored=[]\n",
        "  while len(frontier)!=0:\n",
        "    currentnode=frontier.pop(0)\n",
        "    explored.append(currentnode)\n",
        "    for child in Graph[currentnode].actions:\n",
        "      if child not in frontier and child not in explored:\n",
        "        Graph[child].parent=currentnode\n",
        "        if Graph[child].state==goalstate:\n",
        "          return actionsequence (Graph,initialstate,goalstate)\n",
        "        frontier.append(child)\n",
        "solution=BFS()\n",
        "print(solution)"
      ],
      "metadata": {
        "colab": {
          "base_uri": "https://localhost:8080/"
        },
        "id": "AVq11r9Ccw8D",
        "outputId": "c7d9285c-6947-40bd-94ab-2b35a307de11"
      },
      "execution_count": 16,
      "outputs": [
        {
          "output_type": "stream",
          "name": "stdout",
          "text": [
            "['A', 'C', 'F']\n"
          ]
        }
      ]
    }
  ]
}